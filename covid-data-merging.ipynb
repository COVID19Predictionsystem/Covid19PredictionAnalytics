{
 "cells": [
  {
   "cell_type": "code",
   "execution_count": 1,
   "id": "3651c63a",
   "metadata": {},
   "outputs": [],
   "source": [
    "import math\n",
    "import collections\n",
    "import urllib.request\n",
    "\n",
    "import numpy as np\n",
    "import pandas as pd\n",
    "import matplotlib.pyplot as pp\n",
    "import seaborn as sns\n",
    "from sklearn.manifold import TSNE\n",
    "from sklearn.cluster import KMeans\n",
    "from sklearn.model_selection import train_test_split\n",
    "%matplotlib inline"
   ]
  },
  {
   "cell_type": "code",
   "execution_count": 2,
   "id": "1491f004",
   "metadata": {},
   "outputs": [],
   "source": [
    "pd.options.display.max_rows = 16"
   ]
  },
  {
   "cell_type": "code",
   "execution_count": 3,
   "id": "90fd533b",
   "metadata": {},
   "outputs": [],
   "source": [
    "canada = pd.read_csv('canada.csv')"
   ]
  },
  {
   "cell_type": "code",
   "execution_count": 4,
   "id": "527af2ce",
   "metadata": {},
   "outputs": [
    {
     "data": {
      "text/plain": [
       "8922"
      ]
     },
     "execution_count": 4,
     "metadata": {},
     "output_type": "execute_result"
    }
   ],
   "source": [
    "len(canada)"
   ]
  },
  {
   "cell_type": "code",
   "execution_count": 5,
   "id": "ff05575d",
   "metadata": {},
   "outputs": [
    {
     "name": "stdout",
     "output_type": "stream",
     "text": [
      "<class 'pandas.core.frame.DataFrame'>\n",
      "RangeIndex: 8922 entries, 0 to 8921\n",
      "Data columns (total 40 columns):\n",
      " #   Column               Non-Null Count  Dtype  \n",
      "---  ------               --------------  -----  \n",
      " 0   pruid                8922 non-null   int64  \n",
      " 1   prname               8922 non-null   object \n",
      " 2   prnameFR             8922 non-null   object \n",
      " 3   date                 8922 non-null   object \n",
      " 4   update               3926 non-null   float64\n",
      " 5   numconf              8922 non-null   int64  \n",
      " 6   numprob              6312 non-null   float64\n",
      " 7   numdeaths            8803 non-null   float64\n",
      " 8   numtotal             8922 non-null   int64  \n",
      " 9   numtested            4905 non-null   float64\n",
      " 10  numtests             8922 non-null   int64  \n",
      " 11  numrecover           8398 non-null   float64\n",
      " 12  percentrecover       8194 non-null   float64\n",
      " 13  ratetested           4566 non-null   float64\n",
      " 14  ratetests            8258 non-null   float64\n",
      " 15  numtoday             8922 non-null   int64  \n",
      " 16  percentoday          8922 non-null   float64\n",
      " 17  ratetotal            8331 non-null   float64\n",
      " 18  ratedeaths           8331 non-null   float64\n",
      " 19  numdeathstoday       8803 non-null   float64\n",
      " 20  percentdeath         8525 non-null   float64\n",
      " 21  numtestedtoday       4905 non-null   float64\n",
      " 22  numteststoday        8850 non-null   float64\n",
      " 23  numrecoveredtoday    8398 non-null   float64\n",
      " 24  percentactive        8525 non-null   float64\n",
      " 25  numactive            8525 non-null   float64\n",
      " 26  rateactive           8331 non-null   float64\n",
      " 27  numtotal_last14      8670 non-null   float64\n",
      " 28  ratetotal_last14     8092 non-null   float64\n",
      " 29  numdeaths_last14     8670 non-null   float64\n",
      " 30  ratedeaths_last14    8092 non-null   float64\n",
      " 31  numtotal_last7       8670 non-null   float64\n",
      " 32  ratetotal_last7      8092 non-null   float64\n",
      " 33  numdeaths_last7      8670 non-null   float64\n",
      " 34  ratedeaths_last7     8091 non-null   float64\n",
      " 35  avgtotal_last7       8670 non-null   float64\n",
      " 36  avgincidence_last7   8092 non-null   float64\n",
      " 37  avgdeaths_last7      8670 non-null   float64\n",
      " 38  avgratedeaths_last7  8092 non-null   float64\n",
      " 39  raterecovered        8331 non-null   float64\n",
      "dtypes: float64(32), int64(5), object(3)\n",
      "memory usage: 2.7+ MB\n"
     ]
    }
   ],
   "source": [
    "canada.info()"
   ]
  },
  {
   "cell_type": "code",
   "execution_count": 6,
   "id": "14340ea3",
   "metadata": {},
   "outputs": [
    {
     "data": {
      "text/html": [
       "<div>\n",
       "<style scoped>\n",
       "    .dataframe tbody tr th:only-of-type {\n",
       "        vertical-align: middle;\n",
       "    }\n",
       "\n",
       "    .dataframe tbody tr th {\n",
       "        vertical-align: top;\n",
       "    }\n",
       "\n",
       "    .dataframe thead th {\n",
       "        text-align: right;\n",
       "    }\n",
       "</style>\n",
       "<table border=\"1\" class=\"dataframe\">\n",
       "  <thead>\n",
       "    <tr style=\"text-align: right;\">\n",
       "      <th></th>\n",
       "      <th>pruid</th>\n",
       "      <th>prname</th>\n",
       "      <th>prnameFR</th>\n",
       "      <th>date</th>\n",
       "      <th>update</th>\n",
       "      <th>numconf</th>\n",
       "      <th>numprob</th>\n",
       "      <th>numdeaths</th>\n",
       "      <th>numtotal</th>\n",
       "      <th>numtested</th>\n",
       "      <th>...</th>\n",
       "      <th>ratedeaths_last14</th>\n",
       "      <th>numtotal_last7</th>\n",
       "      <th>ratetotal_last7</th>\n",
       "      <th>numdeaths_last7</th>\n",
       "      <th>ratedeaths_last7</th>\n",
       "      <th>avgtotal_last7</th>\n",
       "      <th>avgincidence_last7</th>\n",
       "      <th>avgdeaths_last7</th>\n",
       "      <th>avgratedeaths_last7</th>\n",
       "      <th>raterecovered</th>\n",
       "    </tr>\n",
       "  </thead>\n",
       "  <tbody>\n",
       "    <tr>\n",
       "      <th>0</th>\n",
       "      <td>35</td>\n",
       "      <td>Ontario</td>\n",
       "      <td>Ontario</td>\n",
       "      <td>2020-01-31</td>\n",
       "      <td>NaN</td>\n",
       "      <td>3</td>\n",
       "      <td>0.0</td>\n",
       "      <td>0.0</td>\n",
       "      <td>3</td>\n",
       "      <td>NaN</td>\n",
       "      <td>...</td>\n",
       "      <td>NaN</td>\n",
       "      <td>NaN</td>\n",
       "      <td>NaN</td>\n",
       "      <td>NaN</td>\n",
       "      <td>NaN</td>\n",
       "      <td>NaN</td>\n",
       "      <td>NaN</td>\n",
       "      <td>NaN</td>\n",
       "      <td>NaN</td>\n",
       "      <td>0.0</td>\n",
       "    </tr>\n",
       "    <tr>\n",
       "      <th>1</th>\n",
       "      <td>59</td>\n",
       "      <td>British Columbia</td>\n",
       "      <td>Colombie-Britannique</td>\n",
       "      <td>2020-01-31</td>\n",
       "      <td>NaN</td>\n",
       "      <td>1</td>\n",
       "      <td>0.0</td>\n",
       "      <td>0.0</td>\n",
       "      <td>1</td>\n",
       "      <td>NaN</td>\n",
       "      <td>...</td>\n",
       "      <td>NaN</td>\n",
       "      <td>NaN</td>\n",
       "      <td>NaN</td>\n",
       "      <td>NaN</td>\n",
       "      <td>NaN</td>\n",
       "      <td>NaN</td>\n",
       "      <td>NaN</td>\n",
       "      <td>NaN</td>\n",
       "      <td>NaN</td>\n",
       "      <td>0.0</td>\n",
       "    </tr>\n",
       "    <tr>\n",
       "      <th>2</th>\n",
       "      <td>1</td>\n",
       "      <td>Canada</td>\n",
       "      <td>Canada</td>\n",
       "      <td>2020-01-31</td>\n",
       "      <td>NaN</td>\n",
       "      <td>4</td>\n",
       "      <td>0.0</td>\n",
       "      <td>0.0</td>\n",
       "      <td>4</td>\n",
       "      <td>NaN</td>\n",
       "      <td>...</td>\n",
       "      <td>NaN</td>\n",
       "      <td>NaN</td>\n",
       "      <td>NaN</td>\n",
       "      <td>NaN</td>\n",
       "      <td>NaN</td>\n",
       "      <td>NaN</td>\n",
       "      <td>NaN</td>\n",
       "      <td>NaN</td>\n",
       "      <td>NaN</td>\n",
       "      <td>0.0</td>\n",
       "    </tr>\n",
       "    <tr>\n",
       "      <th>3</th>\n",
       "      <td>35</td>\n",
       "      <td>Ontario</td>\n",
       "      <td>Ontario</td>\n",
       "      <td>2020-02-08</td>\n",
       "      <td>NaN</td>\n",
       "      <td>3</td>\n",
       "      <td>0.0</td>\n",
       "      <td>0.0</td>\n",
       "      <td>3</td>\n",
       "      <td>NaN</td>\n",
       "      <td>...</td>\n",
       "      <td>NaN</td>\n",
       "      <td>NaN</td>\n",
       "      <td>NaN</td>\n",
       "      <td>NaN</td>\n",
       "      <td>NaN</td>\n",
       "      <td>NaN</td>\n",
       "      <td>NaN</td>\n",
       "      <td>NaN</td>\n",
       "      <td>NaN</td>\n",
       "      <td>0.0</td>\n",
       "    </tr>\n",
       "    <tr>\n",
       "      <th>4</th>\n",
       "      <td>59</td>\n",
       "      <td>British Columbia</td>\n",
       "      <td>Colombie-Britannique</td>\n",
       "      <td>2020-02-08</td>\n",
       "      <td>NaN</td>\n",
       "      <td>4</td>\n",
       "      <td>0.0</td>\n",
       "      <td>0.0</td>\n",
       "      <td>4</td>\n",
       "      <td>NaN</td>\n",
       "      <td>...</td>\n",
       "      <td>NaN</td>\n",
       "      <td>NaN</td>\n",
       "      <td>NaN</td>\n",
       "      <td>NaN</td>\n",
       "      <td>NaN</td>\n",
       "      <td>NaN</td>\n",
       "      <td>NaN</td>\n",
       "      <td>NaN</td>\n",
       "      <td>NaN</td>\n",
       "      <td>0.0</td>\n",
       "    </tr>\n",
       "  </tbody>\n",
       "</table>\n",
       "<p>5 rows × 40 columns</p>\n",
       "</div>"
      ],
      "text/plain": [
       "   pruid            prname              prnameFR        date  update  numconf  \\\n",
       "0     35           Ontario               Ontario  2020-01-31     NaN        3   \n",
       "1     59  British Columbia  Colombie-Britannique  2020-01-31     NaN        1   \n",
       "2      1            Canada                Canada  2020-01-31     NaN        4   \n",
       "3     35           Ontario               Ontario  2020-02-08     NaN        3   \n",
       "4     59  British Columbia  Colombie-Britannique  2020-02-08     NaN        4   \n",
       "\n",
       "   numprob  numdeaths  numtotal  numtested  ...  ratedeaths_last14  \\\n",
       "0      0.0        0.0         3        NaN  ...                NaN   \n",
       "1      0.0        0.0         1        NaN  ...                NaN   \n",
       "2      0.0        0.0         4        NaN  ...                NaN   \n",
       "3      0.0        0.0         3        NaN  ...                NaN   \n",
       "4      0.0        0.0         4        NaN  ...                NaN   \n",
       "\n",
       "   numtotal_last7  ratetotal_last7  numdeaths_last7  ratedeaths_last7  \\\n",
       "0             NaN              NaN              NaN               NaN   \n",
       "1             NaN              NaN              NaN               NaN   \n",
       "2             NaN              NaN              NaN               NaN   \n",
       "3             NaN              NaN              NaN               NaN   \n",
       "4             NaN              NaN              NaN               NaN   \n",
       "\n",
       "   avgtotal_last7  avgincidence_last7  avgdeaths_last7  avgratedeaths_last7  \\\n",
       "0             NaN                 NaN              NaN                  NaN   \n",
       "1             NaN                 NaN              NaN                  NaN   \n",
       "2             NaN                 NaN              NaN                  NaN   \n",
       "3             NaN                 NaN              NaN                  NaN   \n",
       "4             NaN                 NaN              NaN                  NaN   \n",
       "\n",
       "   raterecovered  \n",
       "0            0.0  \n",
       "1            0.0  \n",
       "2            0.0  \n",
       "3            0.0  \n",
       "4            0.0  \n",
       "\n",
       "[5 rows x 40 columns]"
      ]
     },
     "execution_count": 6,
     "metadata": {},
     "output_type": "execute_result"
    }
   ],
   "source": [
    "canada.head()"
   ]
  },
  {
   "cell_type": "markdown",
   "id": "fa5ce029",
   "metadata": {},
   "source": [
    "## Dropping all redundant columns"
   ]
  },
  {
   "cell_type": "code",
   "execution_count": 7,
   "id": "dce0e85e",
   "metadata": {},
   "outputs": [],
   "source": [
    "redundant_columns = ['prname','prnameFR','update','numtotal','numprob','numconf','numdeaths','numtested','numtests','numrecover','percentrecover','ratetested','ratetests','percentoday','ratetotal','ratedeaths','percentdeath','numtestedtoday','percentactive','numactive','rateactive','numtotal_last14','ratetotal_last14','numdeaths_last14','ratedeaths_last14','numtotal_last7','ratetotal_last7','numdeaths_last7','ratedeaths_last7','avgtotal_last7','avgincidence_last7','avgdeaths_last7','avgratedeaths_last7','raterecovered']"
   ]
  },
  {
   "cell_type": "code",
   "execution_count": 8,
   "id": "a76e428f",
   "metadata": {},
   "outputs": [],
   "source": [
    "canada.drop(redundant_columns, axis=1, inplace=True)"
   ]
  },
  {
   "cell_type": "code",
   "execution_count": 9,
   "id": "e7a15df7",
   "metadata": {},
   "outputs": [
    {
     "data": {
      "text/html": [
       "<div>\n",
       "<style scoped>\n",
       "    .dataframe tbody tr th:only-of-type {\n",
       "        vertical-align: middle;\n",
       "    }\n",
       "\n",
       "    .dataframe tbody tr th {\n",
       "        vertical-align: top;\n",
       "    }\n",
       "\n",
       "    .dataframe thead th {\n",
       "        text-align: right;\n",
       "    }\n",
       "</style>\n",
       "<table border=\"1\" class=\"dataframe\">\n",
       "  <thead>\n",
       "    <tr style=\"text-align: right;\">\n",
       "      <th></th>\n",
       "      <th>pruid</th>\n",
       "      <th>date</th>\n",
       "      <th>numtoday</th>\n",
       "      <th>numdeathstoday</th>\n",
       "      <th>numteststoday</th>\n",
       "      <th>numrecoveredtoday</th>\n",
       "    </tr>\n",
       "  </thead>\n",
       "  <tbody>\n",
       "    <tr>\n",
       "      <th>0</th>\n",
       "      <td>35</td>\n",
       "      <td>2020-01-31</td>\n",
       "      <td>3</td>\n",
       "      <td>0.0</td>\n",
       "      <td>NaN</td>\n",
       "      <td>NaN</td>\n",
       "    </tr>\n",
       "    <tr>\n",
       "      <th>1</th>\n",
       "      <td>59</td>\n",
       "      <td>2020-01-31</td>\n",
       "      <td>1</td>\n",
       "      <td>0.0</td>\n",
       "      <td>NaN</td>\n",
       "      <td>NaN</td>\n",
       "    </tr>\n",
       "    <tr>\n",
       "      <th>2</th>\n",
       "      <td>1</td>\n",
       "      <td>2020-01-31</td>\n",
       "      <td>4</td>\n",
       "      <td>0.0</td>\n",
       "      <td>NaN</td>\n",
       "      <td>NaN</td>\n",
       "    </tr>\n",
       "    <tr>\n",
       "      <th>3</th>\n",
       "      <td>35</td>\n",
       "      <td>2020-02-08</td>\n",
       "      <td>0</td>\n",
       "      <td>0.0</td>\n",
       "      <td>NaN</td>\n",
       "      <td>NaN</td>\n",
       "    </tr>\n",
       "    <tr>\n",
       "      <th>4</th>\n",
       "      <td>59</td>\n",
       "      <td>2020-02-08</td>\n",
       "      <td>3</td>\n",
       "      <td>0.0</td>\n",
       "      <td>NaN</td>\n",
       "      <td>NaN</td>\n",
       "    </tr>\n",
       "  </tbody>\n",
       "</table>\n",
       "</div>"
      ],
      "text/plain": [
       "   pruid        date  numtoday  numdeathstoday  numteststoday  \\\n",
       "0     35  2020-01-31         3             0.0            NaN   \n",
       "1     59  2020-01-31         1             0.0            NaN   \n",
       "2      1  2020-01-31         4             0.0            NaN   \n",
       "3     35  2020-02-08         0             0.0            NaN   \n",
       "4     59  2020-02-08         3             0.0            NaN   \n",
       "\n",
       "   numrecoveredtoday  \n",
       "0                NaN  \n",
       "1                NaN  \n",
       "2                NaN  \n",
       "3                NaN  \n",
       "4                NaN  "
      ]
     },
     "execution_count": 9,
     "metadata": {},
     "output_type": "execute_result"
    }
   ],
   "source": [
    "canada.head()"
   ]
  },
  {
   "cell_type": "markdown",
   "id": "272555f4",
   "metadata": {},
   "source": [
    "## Canada Lockdown Date"
   ]
  },
  {
   "cell_type": "code",
   "execution_count": 10,
   "id": "4d1e908c",
   "metadata": {},
   "outputs": [],
   "source": [
    "canadaLockdownDate = pd.read_csv('canadaLockdownDate.csv')"
   ]
  },
  {
   "cell_type": "code",
   "execution_count": 11,
   "id": "b83ef4a0",
   "metadata": {},
   "outputs": [
    {
     "name": "stdout",
     "output_type": "stream",
     "text": [
      "<class 'pandas.core.frame.DataFrame'>\n",
      "RangeIndex: 560 entries, 0 to 559\n",
      "Data columns (total 3 columns):\n",
      " #   Column      Non-Null Count  Dtype \n",
      "---  ------      --------------  ----- \n",
      " 0   provinceID  560 non-null    int64 \n",
      " 1   lockdate    560 non-null    object\n",
      " 2   label       560 non-null    int64 \n",
      "dtypes: int64(2), object(1)\n",
      "memory usage: 13.2+ KB\n"
     ]
    }
   ],
   "source": [
    "canadaLockdownDate.info()"
   ]
  },
  {
   "cell_type": "code",
   "execution_count": 12,
   "id": "8dc7699a",
   "metadata": {},
   "outputs": [
    {
     "data": {
      "text/html": [
       "<div>\n",
       "<style scoped>\n",
       "    .dataframe tbody tr th:only-of-type {\n",
       "        vertical-align: middle;\n",
       "    }\n",
       "\n",
       "    .dataframe tbody tr th {\n",
       "        vertical-align: top;\n",
       "    }\n",
       "\n",
       "    .dataframe thead th {\n",
       "        text-align: right;\n",
       "    }\n",
       "</style>\n",
       "<table border=\"1\" class=\"dataframe\">\n",
       "  <thead>\n",
       "    <tr style=\"text-align: right;\">\n",
       "      <th></th>\n",
       "      <th>provinceID</th>\n",
       "      <th>lockdate</th>\n",
       "      <th>label</th>\n",
       "    </tr>\n",
       "  </thead>\n",
       "  <tbody>\n",
       "    <tr>\n",
       "      <th>0</th>\n",
       "      <td>48</td>\n",
       "      <td>2020-03-27</td>\n",
       "      <td>1</td>\n",
       "    </tr>\n",
       "    <tr>\n",
       "      <th>1</th>\n",
       "      <td>48</td>\n",
       "      <td>2020-03-27</td>\n",
       "      <td>1</td>\n",
       "    </tr>\n",
       "    <tr>\n",
       "      <th>2</th>\n",
       "      <td>48</td>\n",
       "      <td>2020-03-15</td>\n",
       "      <td>1</td>\n",
       "    </tr>\n",
       "    <tr>\n",
       "      <th>3</th>\n",
       "      <td>48</td>\n",
       "      <td>2020-03-15</td>\n",
       "      <td>1</td>\n",
       "    </tr>\n",
       "    <tr>\n",
       "      <th>4</th>\n",
       "      <td>48</td>\n",
       "      <td>2020-03-15</td>\n",
       "      <td>1</td>\n",
       "    </tr>\n",
       "  </tbody>\n",
       "</table>\n",
       "</div>"
      ],
      "text/plain": [
       "   provinceID    lockdate  label\n",
       "0          48  2020-03-27      1\n",
       "1          48  2020-03-27      1\n",
       "2          48  2020-03-15      1\n",
       "3          48  2020-03-15      1\n",
       "4          48  2020-03-15      1"
      ]
     },
     "execution_count": 12,
     "metadata": {},
     "output_type": "execute_result"
    }
   ],
   "source": [
    "canadaLockdownDate.head()"
   ]
  },
  {
   "cell_type": "markdown",
   "id": "b6fe7ffa",
   "metadata": {},
   "source": [
    "## Joining Canada Data and Canada Lockdown Date From Government"
   ]
  },
  {
   "cell_type": "code",
   "execution_count": 13,
   "id": "206c06e4",
   "metadata": {},
   "outputs": [],
   "source": [
    "bothDF = pd.merge(canada,canadaLockdownDate, how='outer',left_on=['pruid','date'], right_on = ['provinceID','lockdate'])"
   ]
  },
  {
   "cell_type": "code",
   "execution_count": 14,
   "id": "70ba9406",
   "metadata": {},
   "outputs": [
    {
     "name": "stdout",
     "output_type": "stream",
     "text": [
      "<class 'pandas.core.frame.DataFrame'>\n",
      "Int64Index: 9201 entries, 0 to 9200\n",
      "Data columns (total 9 columns):\n",
      " #   Column             Non-Null Count  Dtype  \n",
      "---  ------             --------------  -----  \n",
      " 0   pruid              9201 non-null   int64  \n",
      " 1   date               9201 non-null   object \n",
      " 2   numtoday           9201 non-null   int64  \n",
      " 3   numdeathstoday     9082 non-null   float64\n",
      " 4   numteststoday      9129 non-null   float64\n",
      " 5   numrecoveredtoday  8612 non-null   float64\n",
      " 6   provinceID         560 non-null    float64\n",
      " 7   lockdate           560 non-null    object \n",
      " 8   label              560 non-null    float64\n",
      "dtypes: float64(5), int64(2), object(2)\n",
      "memory usage: 718.8+ KB\n"
     ]
    }
   ],
   "source": [
    "bothDF.info()\n",
    "bothDF.to_csv('canada-Lockdown-labels.csv',encoding='utf-8-sig')"
   ]
  },
  {
   "cell_type": "code",
   "execution_count": 15,
   "id": "af957514",
   "metadata": {},
   "outputs": [
    {
     "data": {
      "text/html": [
       "<div>\n",
       "<style scoped>\n",
       "    .dataframe tbody tr th:only-of-type {\n",
       "        vertical-align: middle;\n",
       "    }\n",
       "\n",
       "    .dataframe tbody tr th {\n",
       "        vertical-align: top;\n",
       "    }\n",
       "\n",
       "    .dataframe thead th {\n",
       "        text-align: right;\n",
       "    }\n",
       "</style>\n",
       "<table border=\"1\" class=\"dataframe\">\n",
       "  <thead>\n",
       "    <tr style=\"text-align: right;\">\n",
       "      <th></th>\n",
       "      <th>pruid</th>\n",
       "      <th>date</th>\n",
       "      <th>numtoday</th>\n",
       "      <th>numdeathstoday</th>\n",
       "      <th>numteststoday</th>\n",
       "      <th>numrecoveredtoday</th>\n",
       "      <th>provinceID</th>\n",
       "      <th>lockdate</th>\n",
       "      <th>label</th>\n",
       "    </tr>\n",
       "  </thead>\n",
       "  <tbody>\n",
       "    <tr>\n",
       "      <th>0</th>\n",
       "      <td>35</td>\n",
       "      <td>2020-01-31</td>\n",
       "      <td>3</td>\n",
       "      <td>0.0</td>\n",
       "      <td>NaN</td>\n",
       "      <td>NaN</td>\n",
       "      <td>NaN</td>\n",
       "      <td>NaN</td>\n",
       "      <td>NaN</td>\n",
       "    </tr>\n",
       "    <tr>\n",
       "      <th>1</th>\n",
       "      <td>59</td>\n",
       "      <td>2020-01-31</td>\n",
       "      <td>1</td>\n",
       "      <td>0.0</td>\n",
       "      <td>NaN</td>\n",
       "      <td>NaN</td>\n",
       "      <td>NaN</td>\n",
       "      <td>NaN</td>\n",
       "      <td>NaN</td>\n",
       "    </tr>\n",
       "    <tr>\n",
       "      <th>2</th>\n",
       "      <td>1</td>\n",
       "      <td>2020-01-31</td>\n",
       "      <td>4</td>\n",
       "      <td>0.0</td>\n",
       "      <td>NaN</td>\n",
       "      <td>NaN</td>\n",
       "      <td>NaN</td>\n",
       "      <td>NaN</td>\n",
       "      <td>NaN</td>\n",
       "    </tr>\n",
       "    <tr>\n",
       "      <th>3</th>\n",
       "      <td>35</td>\n",
       "      <td>2020-02-08</td>\n",
       "      <td>0</td>\n",
       "      <td>0.0</td>\n",
       "      <td>NaN</td>\n",
       "      <td>NaN</td>\n",
       "      <td>NaN</td>\n",
       "      <td>NaN</td>\n",
       "      <td>NaN</td>\n",
       "    </tr>\n",
       "    <tr>\n",
       "      <th>4</th>\n",
       "      <td>59</td>\n",
       "      <td>2020-02-08</td>\n",
       "      <td>3</td>\n",
       "      <td>0.0</td>\n",
       "      <td>NaN</td>\n",
       "      <td>NaN</td>\n",
       "      <td>NaN</td>\n",
       "      <td>NaN</td>\n",
       "      <td>NaN</td>\n",
       "    </tr>\n",
       "    <tr>\n",
       "      <th>...</th>\n",
       "      <td>...</td>\n",
       "      <td>...</td>\n",
       "      <td>...</td>\n",
       "      <td>...</td>\n",
       "      <td>...</td>\n",
       "      <td>...</td>\n",
       "      <td>...</td>\n",
       "      <td>...</td>\n",
       "      <td>...</td>\n",
       "    </tr>\n",
       "    <tr>\n",
       "      <th>95</th>\n",
       "      <td>12</td>\n",
       "      <td>2020-03-13</td>\n",
       "      <td>0</td>\n",
       "      <td>0.0</td>\n",
       "      <td>0.0</td>\n",
       "      <td>NaN</td>\n",
       "      <td>12.0</td>\n",
       "      <td>2020-03-13</td>\n",
       "      <td>1.0</td>\n",
       "    </tr>\n",
       "    <tr>\n",
       "      <th>96</th>\n",
       "      <td>11</td>\n",
       "      <td>2020-03-13</td>\n",
       "      <td>0</td>\n",
       "      <td>0.0</td>\n",
       "      <td>0.0</td>\n",
       "      <td>NaN</td>\n",
       "      <td>NaN</td>\n",
       "      <td>NaN</td>\n",
       "      <td>NaN</td>\n",
       "    </tr>\n",
       "    <tr>\n",
       "      <th>97</th>\n",
       "      <td>60</td>\n",
       "      <td>2020-03-13</td>\n",
       "      <td>0</td>\n",
       "      <td>0.0</td>\n",
       "      <td>2.0</td>\n",
       "      <td>NaN</td>\n",
       "      <td>NaN</td>\n",
       "      <td>NaN</td>\n",
       "      <td>NaN</td>\n",
       "    </tr>\n",
       "    <tr>\n",
       "      <th>98</th>\n",
       "      <td>61</td>\n",
       "      <td>2020-03-13</td>\n",
       "      <td>0</td>\n",
       "      <td>0.0</td>\n",
       "      <td>19.0</td>\n",
       "      <td>NaN</td>\n",
       "      <td>NaN</td>\n",
       "      <td>NaN</td>\n",
       "      <td>NaN</td>\n",
       "    </tr>\n",
       "    <tr>\n",
       "      <th>99</th>\n",
       "      <td>62</td>\n",
       "      <td>2020-03-13</td>\n",
       "      <td>0</td>\n",
       "      <td>0.0</td>\n",
       "      <td>0.0</td>\n",
       "      <td>NaN</td>\n",
       "      <td>NaN</td>\n",
       "      <td>NaN</td>\n",
       "      <td>NaN</td>\n",
       "    </tr>\n",
       "  </tbody>\n",
       "</table>\n",
       "<p>100 rows × 9 columns</p>\n",
       "</div>"
      ],
      "text/plain": [
       "    pruid        date  numtoday  numdeathstoday  numteststoday  \\\n",
       "0      35  2020-01-31         3             0.0            NaN   \n",
       "1      59  2020-01-31         1             0.0            NaN   \n",
       "2       1  2020-01-31         4             0.0            NaN   \n",
       "3      35  2020-02-08         0             0.0            NaN   \n",
       "4      59  2020-02-08         3             0.0            NaN   \n",
       "..    ...         ...       ...             ...            ...   \n",
       "95     12  2020-03-13         0             0.0            0.0   \n",
       "96     11  2020-03-13         0             0.0            0.0   \n",
       "97     60  2020-03-13         0             0.0            2.0   \n",
       "98     61  2020-03-13         0             0.0           19.0   \n",
       "99     62  2020-03-13         0             0.0            0.0   \n",
       "\n",
       "    numrecoveredtoday  provinceID    lockdate  label  \n",
       "0                 NaN         NaN         NaN    NaN  \n",
       "1                 NaN         NaN         NaN    NaN  \n",
       "2                 NaN         NaN         NaN    NaN  \n",
       "3                 NaN         NaN         NaN    NaN  \n",
       "4                 NaN         NaN         NaN    NaN  \n",
       "..                ...         ...         ...    ...  \n",
       "95                NaN        12.0  2020-03-13    1.0  \n",
       "96                NaN         NaN         NaN    NaN  \n",
       "97                NaN         NaN         NaN    NaN  \n",
       "98                NaN         NaN         NaN    NaN  \n",
       "99                NaN         NaN         NaN    NaN  \n",
       "\n",
       "[100 rows x 9 columns]"
      ]
     },
     "execution_count": 15,
     "metadata": {},
     "output_type": "execute_result"
    }
   ],
   "source": [
    "bothDF.head(n=100)"
   ]
  },
  {
   "cell_type": "code",
   "execution_count": 16,
   "id": "cdc41502",
   "metadata": {},
   "outputs": [],
   "source": [
    "bothDF.drop(['provinceID','lockdate'], axis=1, inplace=True)"
   ]
  },
  {
   "cell_type": "code",
   "execution_count": 17,
   "id": "9bc153fa",
   "metadata": {},
   "outputs": [
    {
     "name": "stdout",
     "output_type": "stream",
     "text": [
      "<class 'pandas.core.frame.DataFrame'>\n",
      "Int64Index: 9201 entries, 0 to 9200\n",
      "Data columns (total 7 columns):\n",
      " #   Column             Non-Null Count  Dtype  \n",
      "---  ------             --------------  -----  \n",
      " 0   pruid              9201 non-null   int64  \n",
      " 1   date               9201 non-null   object \n",
      " 2   numtoday           9201 non-null   int64  \n",
      " 3   numdeathstoday     9082 non-null   float64\n",
      " 4   numteststoday      9129 non-null   float64\n",
      " 5   numrecoveredtoday  8612 non-null   float64\n",
      " 6   label              560 non-null    float64\n",
      "dtypes: float64(4), int64(2), object(1)\n",
      "memory usage: 575.1+ KB\n"
     ]
    }
   ],
   "source": [
    "bothDF.info()"
   ]
  },
  {
   "cell_type": "markdown",
   "id": "327b84de",
   "metadata": {},
   "source": [
    "# All independent columns names explained here\n",
    "\n",
    "## pruid-----> province user id\n",
    "## date------> on specific date data was covid cases were recored\n",
    "## numtoday----> total number of confirmed covid positive cases\n",
    "## numdeathtoday-----> total number of people died today due to covid-19\n",
    "## numteststoday-----> total number of individual does covid testing today\n",
    "## numrecoveredtoday--> total number of individual recovered from covid today"
   ]
  },
  {
   "cell_type": "markdown",
   "id": "7c676d3d",
   "metadata": {},
   "source": [
    "## Replacing NaN by 0"
   ]
  },
  {
   "cell_type": "code",
   "execution_count": 18,
   "id": "4eb88fdc",
   "metadata": {},
   "outputs": [],
   "source": [
    "bothDF.fillna(value=0, inplace=True)"
   ]
  },
  {
   "cell_type": "code",
   "execution_count": 19,
   "id": "59da5d72",
   "metadata": {},
   "outputs": [
    {
     "data": {
      "text/html": [
       "<div>\n",
       "<style scoped>\n",
       "    .dataframe tbody tr th:only-of-type {\n",
       "        vertical-align: middle;\n",
       "    }\n",
       "\n",
       "    .dataframe tbody tr th {\n",
       "        vertical-align: top;\n",
       "    }\n",
       "\n",
       "    .dataframe thead th {\n",
       "        text-align: right;\n",
       "    }\n",
       "</style>\n",
       "<table border=\"1\" class=\"dataframe\">\n",
       "  <thead>\n",
       "    <tr style=\"text-align: right;\">\n",
       "      <th></th>\n",
       "      <th>pruid</th>\n",
       "      <th>date</th>\n",
       "      <th>numtoday</th>\n",
       "      <th>numdeathstoday</th>\n",
       "      <th>numteststoday</th>\n",
       "      <th>numrecoveredtoday</th>\n",
       "      <th>label</th>\n",
       "    </tr>\n",
       "  </thead>\n",
       "  <tbody>\n",
       "    <tr>\n",
       "      <th>0</th>\n",
       "      <td>35</td>\n",
       "      <td>2020-01-31</td>\n",
       "      <td>3</td>\n",
       "      <td>0.0</td>\n",
       "      <td>0.0</td>\n",
       "      <td>0.0</td>\n",
       "      <td>0.0</td>\n",
       "    </tr>\n",
       "    <tr>\n",
       "      <th>1</th>\n",
       "      <td>59</td>\n",
       "      <td>2020-01-31</td>\n",
       "      <td>1</td>\n",
       "      <td>0.0</td>\n",
       "      <td>0.0</td>\n",
       "      <td>0.0</td>\n",
       "      <td>0.0</td>\n",
       "    </tr>\n",
       "    <tr>\n",
       "      <th>2</th>\n",
       "      <td>1</td>\n",
       "      <td>2020-01-31</td>\n",
       "      <td>4</td>\n",
       "      <td>0.0</td>\n",
       "      <td>0.0</td>\n",
       "      <td>0.0</td>\n",
       "      <td>0.0</td>\n",
       "    </tr>\n",
       "    <tr>\n",
       "      <th>3</th>\n",
       "      <td>35</td>\n",
       "      <td>2020-02-08</td>\n",
       "      <td>0</td>\n",
       "      <td>0.0</td>\n",
       "      <td>0.0</td>\n",
       "      <td>0.0</td>\n",
       "      <td>0.0</td>\n",
       "    </tr>\n",
       "    <tr>\n",
       "      <th>4</th>\n",
       "      <td>59</td>\n",
       "      <td>2020-02-08</td>\n",
       "      <td>3</td>\n",
       "      <td>0.0</td>\n",
       "      <td>0.0</td>\n",
       "      <td>0.0</td>\n",
       "      <td>0.0</td>\n",
       "    </tr>\n",
       "  </tbody>\n",
       "</table>\n",
       "</div>"
      ],
      "text/plain": [
       "   pruid        date  numtoday  numdeathstoday  numteststoday  \\\n",
       "0     35  2020-01-31         3             0.0            0.0   \n",
       "1     59  2020-01-31         1             0.0            0.0   \n",
       "2      1  2020-01-31         4             0.0            0.0   \n",
       "3     35  2020-02-08         0             0.0            0.0   \n",
       "4     59  2020-02-08         3             0.0            0.0   \n",
       "\n",
       "   numrecoveredtoday  label  \n",
       "0                0.0    0.0  \n",
       "1                0.0    0.0  \n",
       "2                0.0    0.0  \n",
       "3                0.0    0.0  \n",
       "4                0.0    0.0  "
      ]
     },
     "execution_count": 19,
     "metadata": {},
     "output_type": "execute_result"
    }
   ],
   "source": [
    "bothDF.head()"
   ]
  },
  {
   "cell_type": "markdown",
   "id": "b36dc245",
   "metadata": {},
   "source": [
    "## converting date string to python date object"
   ]
  },
  {
   "cell_type": "code",
   "execution_count": 20,
   "id": "05112bd6",
   "metadata": {},
   "outputs": [],
   "source": [
    "bothDF['date'] = pd.to_datetime(bothDF['date'])"
   ]
  },
  {
   "cell_type": "code",
   "execution_count": 21,
   "id": "fa3872cc",
   "metadata": {},
   "outputs": [
    {
     "data": {
      "text/html": [
       "<div>\n",
       "<style scoped>\n",
       "    .dataframe tbody tr th:only-of-type {\n",
       "        vertical-align: middle;\n",
       "    }\n",
       "\n",
       "    .dataframe tbody tr th {\n",
       "        vertical-align: top;\n",
       "    }\n",
       "\n",
       "    .dataframe thead th {\n",
       "        text-align: right;\n",
       "    }\n",
       "</style>\n",
       "<table border=\"1\" class=\"dataframe\">\n",
       "  <thead>\n",
       "    <tr style=\"text-align: right;\">\n",
       "      <th></th>\n",
       "      <th>pruid</th>\n",
       "      <th>numtoday</th>\n",
       "      <th>numdeathstoday</th>\n",
       "      <th>numteststoday</th>\n",
       "      <th>numrecoveredtoday</th>\n",
       "      <th>label</th>\n",
       "    </tr>\n",
       "  </thead>\n",
       "  <tbody>\n",
       "    <tr>\n",
       "      <th>count</th>\n",
       "      <td>9201.000000</td>\n",
       "      <td>9201.000000</td>\n",
       "      <td>9201.000000</td>\n",
       "      <td>9201.000000</td>\n",
       "      <td>9201.000000</td>\n",
       "      <td>9201.000000</td>\n",
       "    </tr>\n",
       "    <tr>\n",
       "      <th>mean</th>\n",
       "      <td>39.065210</td>\n",
       "      <td>386.516792</td>\n",
       "      <td>6.437344</td>\n",
       "      <td>10339.338550</td>\n",
       "      <td>371.369525</td>\n",
       "      <td>0.060863</td>\n",
       "    </tr>\n",
       "    <tr>\n",
       "      <th>std</th>\n",
       "      <td>26.054118</td>\n",
       "      <td>1020.964389</td>\n",
       "      <td>19.647099</td>\n",
       "      <td>22862.695374</td>\n",
       "      <td>1112.651763</td>\n",
       "      <td>0.239092</td>\n",
       "    </tr>\n",
       "    <tr>\n",
       "      <th>min</th>\n",
       "      <td>1.000000</td>\n",
       "      <td>0.000000</td>\n",
       "      <td>-7.000000</td>\n",
       "      <td>-3501.000000</td>\n",
       "      <td>-2535.000000</td>\n",
       "      <td>0.000000</td>\n",
       "    </tr>\n",
       "    <tr>\n",
       "      <th>25%</th>\n",
       "      <td>12.000000</td>\n",
       "      <td>0.000000</td>\n",
       "      <td>0.000000</td>\n",
       "      <td>54.000000</td>\n",
       "      <td>0.000000</td>\n",
       "      <td>0.000000</td>\n",
       "    </tr>\n",
       "    <tr>\n",
       "      <th>50%</th>\n",
       "      <td>46.000000</td>\n",
       "      <td>6.000000</td>\n",
       "      <td>0.000000</td>\n",
       "      <td>938.000000</td>\n",
       "      <td>2.000000</td>\n",
       "      <td>0.000000</td>\n",
       "    </tr>\n",
       "    <tr>\n",
       "      <th>75%</th>\n",
       "      <td>60.000000</td>\n",
       "      <td>269.000000</td>\n",
       "      <td>3.000000</td>\n",
       "      <td>8127.000000</td>\n",
       "      <td>186.000000</td>\n",
       "      <td>0.000000</td>\n",
       "    </tr>\n",
       "    <tr>\n",
       "      <th>max</th>\n",
       "      <td>99.000000</td>\n",
       "      <td>9570.000000</td>\n",
       "      <td>222.000000</td>\n",
       "      <td>160320.000000</td>\n",
       "      <td>23853.000000</td>\n",
       "      <td>1.000000</td>\n",
       "    </tr>\n",
       "  </tbody>\n",
       "</table>\n",
       "</div>"
      ],
      "text/plain": [
       "             pruid     numtoday  numdeathstoday  numteststoday  \\\n",
       "count  9201.000000  9201.000000     9201.000000    9201.000000   \n",
       "mean     39.065210   386.516792        6.437344   10339.338550   \n",
       "std      26.054118  1020.964389       19.647099   22862.695374   \n",
       "min       1.000000     0.000000       -7.000000   -3501.000000   \n",
       "25%      12.000000     0.000000        0.000000      54.000000   \n",
       "50%      46.000000     6.000000        0.000000     938.000000   \n",
       "75%      60.000000   269.000000        3.000000    8127.000000   \n",
       "max      99.000000  9570.000000      222.000000  160320.000000   \n",
       "\n",
       "       numrecoveredtoday        label  \n",
       "count        9201.000000  9201.000000  \n",
       "mean          371.369525     0.060863  \n",
       "std          1112.651763     0.239092  \n",
       "min         -2535.000000     0.000000  \n",
       "25%             0.000000     0.000000  \n",
       "50%             2.000000     0.000000  \n",
       "75%           186.000000     0.000000  \n",
       "max         23853.000000     1.000000  "
      ]
     },
     "execution_count": 21,
     "metadata": {},
     "output_type": "execute_result"
    }
   ],
   "source": [
    "bothDF.describe()"
   ]
  },
  {
   "cell_type": "markdown",
   "id": "4b051a32",
   "metadata": {},
   "source": [
    "## converting date to number"
   ]
  },
  {
   "cell_type": "code",
   "execution_count": 22,
   "id": "e587e597",
   "metadata": {},
   "outputs": [],
   "source": [
    "bothDF[\"date\"] = pd.to_datetime(bothDF[\"date\"]).dt.strftime(\"%Y%m%d\")"
   ]
  },
  {
   "cell_type": "code",
   "execution_count": 19,
   "id": "c510e0ce",
   "metadata": {},
   "outputs": [],
   "source": [
    "#canada.head()\n",
    "#canada.to_csv('working-data-canada.csv',encoding='utf-8-sig')"
   ]
  },
  {
   "cell_type": "code",
   "execution_count": 23,
   "id": "22246aed",
   "metadata": {},
   "outputs": [],
   "source": [
    "labels = bothDF[\"label\"]"
   ]
  },
  {
   "cell_type": "code",
   "execution_count": 24,
   "id": "924bdac2",
   "metadata": {},
   "outputs": [
    {
     "name": "stdout",
     "output_type": "stream",
     "text": [
      "0       0.0\n",
      "1       0.0\n",
      "2       0.0\n",
      "3       0.0\n",
      "4       0.0\n",
      "       ... \n",
      "9196    0.0\n",
      "9197    0.0\n",
      "9198    0.0\n",
      "9199    0.0\n",
      "9200    0.0\n",
      "Name: label, Length: 9201, dtype: float64\n"
     ]
    }
   ],
   "source": [
    "print(labels)"
   ]
  },
  {
   "cell_type": "code",
   "execution_count": 25,
   "id": "44356311",
   "metadata": {},
   "outputs": [],
   "source": [
    "bothDF.drop(['label'], axis=1, inplace=True)"
   ]
  },
  {
   "cell_type": "code",
   "execution_count": 26,
   "id": "6b79060d",
   "metadata": {},
   "outputs": [
    {
     "data": {
      "text/html": [
       "<div>\n",
       "<style scoped>\n",
       "    .dataframe tbody tr th:only-of-type {\n",
       "        vertical-align: middle;\n",
       "    }\n",
       "\n",
       "    .dataframe tbody tr th {\n",
       "        vertical-align: top;\n",
       "    }\n",
       "\n",
       "    .dataframe thead th {\n",
       "        text-align: right;\n",
       "    }\n",
       "</style>\n",
       "<table border=\"1\" class=\"dataframe\">\n",
       "  <thead>\n",
       "    <tr style=\"text-align: right;\">\n",
       "      <th></th>\n",
       "      <th>pruid</th>\n",
       "      <th>date</th>\n",
       "      <th>numtoday</th>\n",
       "      <th>numdeathstoday</th>\n",
       "      <th>numteststoday</th>\n",
       "      <th>numrecoveredtoday</th>\n",
       "    </tr>\n",
       "  </thead>\n",
       "  <tbody>\n",
       "    <tr>\n",
       "      <th>0</th>\n",
       "      <td>35</td>\n",
       "      <td>20200131</td>\n",
       "      <td>3</td>\n",
       "      <td>0.0</td>\n",
       "      <td>0.0</td>\n",
       "      <td>0.0</td>\n",
       "    </tr>\n",
       "    <tr>\n",
       "      <th>1</th>\n",
       "      <td>59</td>\n",
       "      <td>20200131</td>\n",
       "      <td>1</td>\n",
       "      <td>0.0</td>\n",
       "      <td>0.0</td>\n",
       "      <td>0.0</td>\n",
       "    </tr>\n",
       "    <tr>\n",
       "      <th>2</th>\n",
       "      <td>1</td>\n",
       "      <td>20200131</td>\n",
       "      <td>4</td>\n",
       "      <td>0.0</td>\n",
       "      <td>0.0</td>\n",
       "      <td>0.0</td>\n",
       "    </tr>\n",
       "    <tr>\n",
       "      <th>3</th>\n",
       "      <td>35</td>\n",
       "      <td>20200208</td>\n",
       "      <td>0</td>\n",
       "      <td>0.0</td>\n",
       "      <td>0.0</td>\n",
       "      <td>0.0</td>\n",
       "    </tr>\n",
       "    <tr>\n",
       "      <th>4</th>\n",
       "      <td>59</td>\n",
       "      <td>20200208</td>\n",
       "      <td>3</td>\n",
       "      <td>0.0</td>\n",
       "      <td>0.0</td>\n",
       "      <td>0.0</td>\n",
       "    </tr>\n",
       "  </tbody>\n",
       "</table>\n",
       "</div>"
      ],
      "text/plain": [
       "   pruid      date  numtoday  numdeathstoday  numteststoday  numrecoveredtoday\n",
       "0     35  20200131         3             0.0            0.0                0.0\n",
       "1     59  20200131         1             0.0            0.0                0.0\n",
       "2      1  20200131         4             0.0            0.0                0.0\n",
       "3     35  20200208         0             0.0            0.0                0.0\n",
       "4     59  20200208         3             0.0            0.0                0.0"
      ]
     },
     "execution_count": 26,
     "metadata": {},
     "output_type": "execute_result"
    }
   ],
   "source": [
    "bothDF.head()"
   ]
  },
  {
   "cell_type": "code",
   "execution_count": null,
   "id": "7c688e14",
   "metadata": {},
   "outputs": [],
   "source": []
  },
  {
   "cell_type": "markdown",
   "id": "8354b7d0",
   "metadata": {},
   "source": [
    "## No need to Apply K-Means Clustering where total cluster number is 2"
   ]
  },
  {
   "cell_type": "code",
   "execution_count": 20,
   "id": "10bf9f7f",
   "metadata": {},
   "outputs": [],
   "source": [
    "# kmeans = KMeans(n_clusters=2)\n",
    "# labels = kmeans.fit_predict(canada)\n",
    "# canada_kmeans = pd.DataFrame(canada)\n",
    "# canada_kmeans['cluster'] = labels"
   ]
  },
  {
   "cell_type": "code",
   "execution_count": 30,
   "id": "c2ca691c",
   "metadata": {},
   "outputs": [
    {
     "data": {
      "text/html": [
       "<div>\n",
       "<style scoped>\n",
       "    .dataframe tbody tr th:only-of-type {\n",
       "        vertical-align: middle;\n",
       "    }\n",
       "\n",
       "    .dataframe tbody tr th {\n",
       "        vertical-align: top;\n",
       "    }\n",
       "\n",
       "    .dataframe thead th {\n",
       "        text-align: right;\n",
       "    }\n",
       "</style>\n",
       "<table border=\"1\" class=\"dataframe\">\n",
       "  <thead>\n",
       "    <tr style=\"text-align: right;\">\n",
       "      <th></th>\n",
       "      <th>pruid</th>\n",
       "      <th>date</th>\n",
       "      <th>numtoday</th>\n",
       "      <th>numdeathstoday</th>\n",
       "      <th>numtestedtoday</th>\n",
       "      <th>numrecoveredtoday</th>\n",
       "      <th>cluster</th>\n",
       "    </tr>\n",
       "  </thead>\n",
       "  <tbody>\n",
       "    <tr>\n",
       "      <th>0</th>\n",
       "      <td>35</td>\n",
       "      <td>20200131</td>\n",
       "      <td>3</td>\n",
       "      <td>0.0</td>\n",
       "      <td>0.0</td>\n",
       "      <td>0.0</td>\n",
       "      <td>0</td>\n",
       "    </tr>\n",
       "    <tr>\n",
       "      <th>1</th>\n",
       "      <td>59</td>\n",
       "      <td>20200131</td>\n",
       "      <td>1</td>\n",
       "      <td>0.0</td>\n",
       "      <td>0.0</td>\n",
       "      <td>0.0</td>\n",
       "      <td>0</td>\n",
       "    </tr>\n",
       "    <tr>\n",
       "      <th>2</th>\n",
       "      <td>1</td>\n",
       "      <td>20200131</td>\n",
       "      <td>4</td>\n",
       "      <td>0.0</td>\n",
       "      <td>0.0</td>\n",
       "      <td>0.0</td>\n",
       "      <td>0</td>\n",
       "    </tr>\n",
       "    <tr>\n",
       "      <th>3</th>\n",
       "      <td>35</td>\n",
       "      <td>20200208</td>\n",
       "      <td>0</td>\n",
       "      <td>0.0</td>\n",
       "      <td>0.0</td>\n",
       "      <td>0.0</td>\n",
       "      <td>0</td>\n",
       "    </tr>\n",
       "    <tr>\n",
       "      <th>4</th>\n",
       "      <td>59</td>\n",
       "      <td>20200208</td>\n",
       "      <td>3</td>\n",
       "      <td>0.0</td>\n",
       "      <td>0.0</td>\n",
       "      <td>0.0</td>\n",
       "      <td>0</td>\n",
       "    </tr>\n",
       "  </tbody>\n",
       "</table>\n",
       "</div>"
      ],
      "text/plain": [
       "   pruid      date  numtoday  numdeathstoday  numtestedtoday  \\\n",
       "0     35  20200131         3             0.0             0.0   \n",
       "1     59  20200131         1             0.0             0.0   \n",
       "2      1  20200131         4             0.0             0.0   \n",
       "3     35  20200208         0             0.0             0.0   \n",
       "4     59  20200208         3             0.0             0.0   \n",
       "\n",
       "   numrecoveredtoday  cluster  \n",
       "0                0.0        0  \n",
       "1                0.0        0  \n",
       "2                0.0        0  \n",
       "3                0.0        0  \n",
       "4                0.0        0  "
      ]
     },
     "execution_count": 30,
     "metadata": {},
     "output_type": "execute_result"
    }
   ],
   "source": [
    "canada_kmeans.head()"
   ]
  },
  {
   "cell_type": "code",
   "execution_count": 22,
   "id": "7fd2103d",
   "metadata": {},
   "outputs": [
    {
     "data": {
      "text/html": [
       "<div>\n",
       "<style scoped>\n",
       "    .dataframe tbody tr th:only-of-type {\n",
       "        vertical-align: middle;\n",
       "    }\n",
       "\n",
       "    .dataframe tbody tr th {\n",
       "        vertical-align: top;\n",
       "    }\n",
       "\n",
       "    .dataframe thead th {\n",
       "        text-align: right;\n",
       "    }\n",
       "</style>\n",
       "<table border=\"1\" class=\"dataframe\">\n",
       "  <thead>\n",
       "    <tr style=\"text-align: right;\">\n",
       "      <th></th>\n",
       "      <th>pruid</th>\n",
       "      <th>date</th>\n",
       "      <th>numtoday</th>\n",
       "      <th>numdeathstoday</th>\n",
       "      <th>numtestedtoday</th>\n",
       "      <th>numrecoveredtoday</th>\n",
       "      <th>cluster</th>\n",
       "    </tr>\n",
       "  </thead>\n",
       "  <tbody>\n",
       "    <tr>\n",
       "      <th>0</th>\n",
       "      <td>35</td>\n",
       "      <td>20200131</td>\n",
       "      <td>3</td>\n",
       "      <td>0.0</td>\n",
       "      <td>0.0</td>\n",
       "      <td>0.0</td>\n",
       "      <td>0</td>\n",
       "    </tr>\n",
       "    <tr>\n",
       "      <th>1</th>\n",
       "      <td>59</td>\n",
       "      <td>20200131</td>\n",
       "      <td>1</td>\n",
       "      <td>0.0</td>\n",
       "      <td>0.0</td>\n",
       "      <td>0.0</td>\n",
       "      <td>0</td>\n",
       "    </tr>\n",
       "    <tr>\n",
       "      <th>2</th>\n",
       "      <td>1</td>\n",
       "      <td>20200131</td>\n",
       "      <td>4</td>\n",
       "      <td>0.0</td>\n",
       "      <td>0.0</td>\n",
       "      <td>0.0</td>\n",
       "      <td>0</td>\n",
       "    </tr>\n",
       "    <tr>\n",
       "      <th>3</th>\n",
       "      <td>35</td>\n",
       "      <td>20200208</td>\n",
       "      <td>0</td>\n",
       "      <td>0.0</td>\n",
       "      <td>0.0</td>\n",
       "      <td>0.0</td>\n",
       "      <td>0</td>\n",
       "    </tr>\n",
       "    <tr>\n",
       "      <th>4</th>\n",
       "      <td>59</td>\n",
       "      <td>20200208</td>\n",
       "      <td>3</td>\n",
       "      <td>0.0</td>\n",
       "      <td>0.0</td>\n",
       "      <td>0.0</td>\n",
       "      <td>0</td>\n",
       "    </tr>\n",
       "  </tbody>\n",
       "</table>\n",
       "</div>"
      ],
      "text/plain": [
       "   pruid      date  numtoday  numdeathstoday  numtestedtoday  \\\n",
       "0     35  20200131         3             0.0             0.0   \n",
       "1     59  20200131         1             0.0             0.0   \n",
       "2      1  20200131         4             0.0             0.0   \n",
       "3     35  20200208         0             0.0             0.0   \n",
       "4     59  20200208         3             0.0             0.0   \n",
       "\n",
       "   numrecoveredtoday  cluster  \n",
       "0                0.0        0  \n",
       "1                0.0        0  \n",
       "2                0.0        0  \n",
       "3                0.0        0  \n",
       "4                0.0        0  "
      ]
     },
     "execution_count": 22,
     "metadata": {},
     "output_type": "execute_result"
    }
   ],
   "source": [
    "canada_kmeans.head()\n"
   ]
  },
  {
   "cell_type": "markdown",
   "id": "153c1b41",
   "metadata": {},
   "source": [
    "## Applying TSNE Dimension Reduction, reducing 6D into 2D array"
   ]
  },
  {
   "cell_type": "code",
   "execution_count": 27,
   "id": "ec325775",
   "metadata": {},
   "outputs": [],
   "source": [
    "tsne = TSNE(n_components=2, random_state=0)\n",
    "tsne_obj = tsne.fit_transform(bothDF)"
   ]
  },
  {
   "cell_type": "code",
   "execution_count": 75,
   "id": "3201e1fe",
   "metadata": {},
   "outputs": [
    {
     "name": "stdout",
     "output_type": "stream",
     "text": [
      "[[-88.93251     8.994189 ]\n",
      " [-88.9752      8.920368 ]\n",
      " [-88.85427     9.097162 ]\n",
      " ...\n",
      " [-47.90427    65.394775 ]\n",
      " [-45.31682    73.91784  ]\n",
      " [ 14.295086    7.3421483]]\n"
     ]
    }
   ],
   "source": [
    "print(tsne_obj)"
   ]
  },
  {
   "cell_type": "markdown",
   "id": "292f544f",
   "metadata": {},
   "source": [
    "## Creating pandas dataframe object from t-SNE data and K-Means Cluster"
   ]
  },
  {
   "cell_type": "code",
   "execution_count": 28,
   "id": "693ef53e",
   "metadata": {},
   "outputs": [],
   "source": [
    "canada_tsne = pd.DataFrame({'X':tsne_obj[:,0],\n",
    "                        'Y':tsne_obj[:,1],\n",
    "                           'cluster':labels})"
   ]
  },
  {
   "cell_type": "markdown",
   "id": "b287446d",
   "metadata": {},
   "source": [
    "## Scatter plotting data based on clustering"
   ]
  },
  {
   "cell_type": "code",
   "execution_count": 29,
   "id": "e4a612a8",
   "metadata": {},
   "outputs": [
    {
     "data": {
      "text/plain": [
       "<AxesSubplot:xlabel='X', ylabel='Y'>"
      ]
     },
     "execution_count": 29,
     "metadata": {},
     "output_type": "execute_result"
    },
    {
     "data": {
      "image/png": "[encoded data removed]",
      "text/plain": [
       "<Figure size 432x288 with 1 Axes>"
      ]
     },
     "metadata": {
      "needs_background": "light"
     },
     "output_type": "display_data"
    }
   ],
   "source": [
    "sns.scatterplot(x=\"X\", y=\"Y\",\n",
    "              data=canada_tsne,\n",
    "              hue='cluster',\n",
    "              legend=\"full\")"
   ]
  },
  {
   "cell_type": "code",
   "execution_count": 30,
   "id": "5fe8c7dd",
   "metadata": {},
   "outputs": [],
   "source": [
    "df1 = canada_tsne[canada_tsne['cluster']==1]"
   ]
  },
  {
   "cell_type": "code",
   "execution_count": 31,
   "id": "97fda43a",
   "metadata": {},
   "outputs": [],
   "source": [
    "df2 = canada_tsne[canada_tsne['cluster']==0]"
   ]
  },
  {
   "cell_type": "code",
   "execution_count": 32,
   "id": "0127aebf",
   "metadata": {},
   "outputs": [
    {
     "data": {
      "text/plain": [
       "<AxesSubplot:xlabel='X', ylabel='Y'>"
      ]
     },
     "execution_count": 32,
     "metadata": {},
     "output_type": "execute_result"
    },
    {
     "data": {
      "image/png": "[encoded data removed]",
      "text/plain": [
       "<Figure size 432x288 with 1 Axes>"
      ]
     },
     "metadata": {
      "needs_background": "light"
     },
     "output_type": "display_data"
    }
   ],
   "source": [
    "sns.scatterplot(x=\"X\", y=\"Y\",\n",
    "              data=df1,\n",
    "              hue='cluster',\n",
    "              legend=\"full\")"
   ]
  },
  {
   "cell_type": "code",
   "execution_count": 33,
   "id": "cbc3b5ba",
   "metadata": {},
   "outputs": [
    {
     "data": {
      "text/plain": [
       "<AxesSubplot:xlabel='X', ylabel='Y'>"
      ]
     },
     "execution_count": 33,
     "metadata": {},
     "output_type": "execute_result"
    },
    {
     "data": {
      "image/png": "[encoded data removed]",
      "text/plain": [
       "<Figure size 432x288 with 1 Axes>"
      ]
     },
     "metadata": {
      "needs_background": "light"
     },
     "output_type": "display_data"
    }
   ],
   "source": [
    "sns.scatterplot(x=\"X\", y=\"Y\",\n",
    "              data=df2,\n",
    "              hue='cluster',\n",
    "              legend=\"full\")"
   ]
  },
  {
   "cell_type": "markdown",
   "id": "ca21dd5a",
   "metadata": {},
   "source": [
    "## Cluster = 0 Means Government don't need to put shutdown\n",
    "## Cluster = 1 Means Government needs to put shutdown"
   ]
  },
  {
   "cell_type": "markdown",
   "id": "110ac505",
   "metadata": {},
   "source": [
    "## splitting data into train, validation and test  data set\n",
    "### train = 60%\n",
    "### validation = 20%\n",
    "### test = 20%"
   ]
  },
  {
   "cell_type": "code",
   "execution_count": 27,
   "id": "35abe163",
   "metadata": {},
   "outputs": [],
   "source": [
    "X_train, X_test, y_train, y_test = train_test_split(canada, labels,\n",
    "    test_size=0.2, shuffle = True, random_state = 8)\n",
    "\n",
    "X_train, X_val, y_train, y_val = train_test_split(X_train, y_train, \n",
    "    test_size=0.25, random_state= 8)"
   ]
  },
  {
   "cell_type": "code",
   "execution_count": 28,
   "id": "f4f0f413",
   "metadata": {},
   "outputs": [
    {
     "name": "stdout",
     "output_type": "stream",
     "text": [
      "(5352, 7)\n",
      "(5352,)\n",
      "(1785, 7)\n",
      "(1785,)\n",
      "(1785, 7)\n",
      "(1785,)\n"
     ]
    }
   ],
   "source": [
    "print(X_train.shape)\n",
    "print(y_train.shape)\n",
    "print(X_test.shape)\n",
    "print(y_test.shape)\n",
    "print(X_val.shape)\n",
    "print(y_val.shape)"
   ]
  },
  {
   "cell_type": "markdown",
   "id": "b16eedaa",
   "metadata": {},
   "source": [
    "1. Create a shared word page on online where we all are accessible we all have access to it.\n",
    "2. Power point presentation. another online powerpoint document /shared document. like previous onel.\n",
    "3. we will use a model, to train our data.\n"
   ]
  },
  {
   "cell_type": "code",
   "execution_count": null,
   "id": "40c3a115",
   "metadata": {},
   "outputs": [],
   "source": []
  }
 ],
 "metadata": {
  "kernelspec": {
   "display_name": "Python 3",
   "language": "python",
   "name": "python3"
  },
  "language_info": {
   "codemirror_mode": {
    "name": "ipython",
    "version": 3
   },
   "file_extension": ".py",
   "mimetype": "text/x-python",
   "name": "python",
   "nbconvert_exporter": "python",
   "pygments_lexer": "ipython3",
   "version": "3.8.8"
  }
 },
 "nbformat": 4,
 "nbformat_minor": 5
}
